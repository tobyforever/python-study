{
 "cells": [
  {
   "cell_type": "markdown",
   "metadata": {
    "collapsed": true
   },
   "source": [
    "\n",
    "测试时间\n"
   ]
  },
  {
   "cell_type": "code",
   "execution_count": 2,
   "metadata": {},
   "outputs": [
    {
     "name": "stdout",
     "output_type": "stream",
     "text": [
      "hello\nCPU times: user 91 µs, sys: 2 µs, total: 93 µs\nWall time: 98 µs\n"
     ]
    }
   ],
   "source": [
    "%%time\n",
    "print('hello')"
   ]
  },
  {
   "cell_type": "code",
   "execution_count": 14,
   "metadata": {},
   "outputs": [
    {
     "name": "stdout",
     "output_type": "stream",
     "text": [
      "[0, 1, 2, 3, 4]\nCPU times: user 743 µs, sys: 365 µs, total: 1.11 ms\nWall time: 772 µs\n"
     ]
    }
   ],
   "source": [
    "%%time\n",
    "print range(5)"
   ]
  },
  {
   "cell_type": "code",
   "execution_count": 13,
   "metadata": {},
   "outputs": [
    {
     "name": "stdout",
     "output_type": "stream",
     "text": [
      "xrange(5)\nCPU times: user 278 µs, sys: 53 µs, total: 331 µs\nWall time: 306 µs\n"
     ]
    }
   ],
   "source": [
    "%%time\n",
    "print xrange(5)"
   ]
  },
  {
   "cell_type": "code",
   "execution_count": 17,
   "metadata": {},
   "outputs": [
    {
     "name": "stdout",
     "output_type": "stream",
     "text": [
      "4367138184\n4367138184\n"
     ]
    }
   ],
   "source": [
    "a=[[1,2,3],[4,5,6]]\n",
    "print(id(a))\n",
    "print a\n",
    "a.append(15)\n",
    "print(id(a))"
   ]
  },
  {
   "cell_type": "code",
   "execution_count": 21,
   "metadata": {},
   "outputs": [
    {
     "name": "stdout",
     "output_type": "stream",
     "text": [
      "[1, 2, 3]\n(1, 2, 3)\n(1, 2, 3, 4, 5)\n"
     ]
    }
   ],
   "source": [
    "#list\n",
    "print [1,2,3]\n",
    "#tuple\n",
    "print (1, 2, 3)\n",
    "t1=(1,2,3)\n",
    "t2=(4,5)\n",
    "print t1+t2"
   ]
  },
  {
   "cell_type": "code",
   "execution_count": 25,
   "metadata": {},
   "outputs": [
    {
     "name": "stdout",
     "output_type": "stream",
     "text": [
      "3\n7\n11\n"
     ]
    }
   ],
   "source": [
    "#tuple list的迭代\n",
    "tuple_list =[(1,2),(3,4),(5,6)]\n",
    "for x,y in tuple_list:\n",
    "    print x+y"
   ]
  },
  {
   "cell_type": "code",
   "execution_count": 28,
   "metadata": {},
   "outputs": [
    {
     "name": "stdout",
     "output_type": "stream",
     "text": [
      "[1, 2, 3]\n"
     ]
    }
   ],
   "source": [
    "#转换tuple为list\n",
    "tuple=(1,2,3)\n",
    "print list(tuple)"
   ]
  },
  {
   "cell_type": "code",
   "execution_count": 30,
   "metadata": {},
   "outputs": [
    {
     "name": "stdout",
     "output_type": "stream",
     "text": [
      "[1, 2, 3]\n3\n[1, 2]\n"
     ]
    }
   ],
   "source": [
    "#列表的pop\n",
    "list=[1,2,3]\n",
    "print list\n",
    "list2=list.pop(2)\n",
    "print list2\n",
    "print list"
   ]
  },
  {
   "cell_type": "code",
   "execution_count": null,
   "metadata": {},
   "outputs": [],
   "source": [
    ""
   ]
  }
 ],
 "metadata": {
  "kernelspec": {
   "display_name": "Python 2",
   "language": "python",
   "name": "python2"
  },
  "language_info": {
   "codemirror_mode": {
    "name": "ipython",
    "version": 2.0
   },
   "file_extension": ".py",
   "mimetype": "text/x-python",
   "name": "python",
   "nbconvert_exporter": "python",
   "pygments_lexer": "ipython2",
   "version": "2.7.6"
  }
 },
 "nbformat": 4,
 "nbformat_minor": 0
}